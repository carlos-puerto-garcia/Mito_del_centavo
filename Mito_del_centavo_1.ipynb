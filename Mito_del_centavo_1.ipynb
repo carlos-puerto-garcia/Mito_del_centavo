{
 "cells": [
  {
   "cell_type": "markdown",
   "metadata": {},
   "source": [
    "# Modelación y simulación en Python\n",
    "\n",
    "Modelación\n"
   ]
  },
  {
   "cell_type": "markdown",
   "metadata": {},
   "source": [
    "### Importando modsim\n",
    "\n",
    "La siguiente celda importa `modsim`, la cual es una colección de funciones. Hace dos cosas:\n",
    "\n",
    "1.  Usa un \"comando mágico\" para especificar si las figuras deberían aparecer en el cuaderno o aparecer en una nueva ventana.\n",
    "\n",
    "2.  Importa todo lo definido en `modsim`.\n",
    "\n",
    "Seleccione la siguiente celda y presione SHIFT-ENTER para correrla."
   ]
  },
  {
   "cell_type": "code",
   "execution_count": 1,
   "metadata": {},
   "outputs": [
    {
     "name": "stderr",
     "output_type": "stream",
     "text": [
      "Vendor:  Continuum Analytics, Inc.\n",
      "Package: mkl\n",
      "Message: trial mode expires in 30 days\n",
      "modsim.py depends on Python 3.6 features.\n"
     ]
    },
    {
     "name": "stdout",
     "output_type": "stream",
     "text": [
      "Si esta celda corre exitosamente, mostrará solamente este mensaje.\n"
     ]
    }
   ],
   "source": [
    "# If you want the figures to appear in the notebook, \n",
    "# and you want to interact with them, use\n",
    "# %matplotlib notebook\n",
    "\n",
    "# If you want the figures to appear in the notebook, \n",
    "# and you don't want to interact with them, use\n",
    "# %matplotlib inline\n",
    "\n",
    "# If you want the figures to appear in separate windows, use\n",
    "# %matplotlib qt5\n",
    "\n",
    "# To switch from one to another, you have to select Kernel->Restart\n",
    "\n",
    "%matplotlib notebook\n",
    "\n",
    "from modsim import *\n",
    "\n",
    "print('Si esta celda corre exitosamente, mostrará solamente este mensaje.')"
   ]
  },
  {
   "cell_type": "markdown",
   "metadata": {},
   "source": [
    "## El mito del centavo\n",
    "\n",
    "`modsim` define `UNITS`, la cual contiene variables que representan cada unidad existente.  Las siguientes líneas crean nuevas variables llamadas `meter` y `second` (Unidades de Pint)."
   ]
  },
  {
   "cell_type": "code",
   "execution_count": 3,
   "metadata": {
    "collapsed": true
   },
   "outputs": [],
   "source": [
    "meter = UNITS.meter\n",
    "second = UNITS.second"
   ]
  },
  {
   "cell_type": "markdown",
   "metadata": {},
   "source": [
    "Para averiguar qué unidades están definidas, escriba 'UNITS'. (incluido el punto) en la celda siguiente y luego presione TAB. Debería ver un menú emergente con una lista de unidades."
   ]
  },
  {
   "cell_type": "code",
   "execution_count": null,
   "metadata": {
    "collapsed": true,
    "scrolled": true
   },
   "outputs": [],
   "source": []
  },
  {
   "cell_type": "markdown",
   "metadata": {},
   "source": [
    "Crea una variable llamada 'a' y muestre su valor:"
   ]
  },
  {
   "cell_type": "code",
   "execution_count": 4,
   "metadata": {},
   "outputs": [
    {
     "data": {
      "text/html": [
       "9.8 meter/second<sup>2</sup>"
      ],
      "text/latex": [
       "$9.8\\ \\frac{\\mathrm{meter}}{\\mathrm{second}^{2}}$"
      ],
      "text/plain": [
       "<Quantity(9.8, 'meter / second ** 2')>"
      ]
     },
     "execution_count": 4,
     "metadata": {},
     "output_type": "execute_result"
    }
   ],
   "source": [
    "a = 9.8 * meter / second**2\n",
    "a"
   ]
  },
  {
   "cell_type": "markdown",
   "metadata": {
    "collapsed": true
   },
   "source": [
    "Crea 't' y visualiza su valor:"
   ]
  },
  {
   "cell_type": "code",
   "execution_count": 5,
   "metadata": {},
   "outputs": [
    {
     "data": {
      "text/html": [
       "4 second"
      ],
      "text/latex": [
       "$4\\ \\mathrm{second}$"
      ],
      "text/plain": [
       "<Quantity(4, 'second')>"
      ]
     },
     "execution_count": 5,
     "metadata": {},
     "output_type": "execute_result"
    }
   ],
   "source": [
    "t = 4 * second\n",
    "t"
   ]
  },
  {
   "cell_type": "markdown",
   "metadata": {
    "collapsed": true
   },
   "source": [
    "Si crea una variable y no muestra el valor, no obtendrá ningún resultado:"
   ]
  },
  {
   "cell_type": "code",
   "execution_count": 6,
   "metadata": {},
   "outputs": [
    {
     "data": {
      "text/html": [
       "78.4 meter"
      ],
      "text/latex": [
       "$78.4\\ \\mathrm{meter}$"
      ],
      "text/plain": [
       "<Quantity(78.4, 'meter')>"
      ]
     },
     "execution_count": 6,
     "metadata": {},
     "output_type": "execute_result"
    }
   ],
   "source": [
    "h = a * t**2 / 2\n",
    "h"
   ]
  },
  {
   "cell_type": "markdown",
   "metadata": {
    "collapsed": true
   },
   "source": [
    "Agregue una segunda línea a la celda anterior para mostrar el valor de `h`.\n",
    "\n",
    "Ahora solucionemos el problema de la caída del centavo. Las siguientes líneas establecen `h` a la altura del edificio del Empire State y calculan el tiempo que tardaría un centavo en caer, suponiendo una aceleración constante.\n"
   ]
  },
  {
   "cell_type": "code",
   "execution_count": 7,
   "metadata": {},
   "outputs": [
    {
     "data": {
      "text/html": [
       "8.817885349720552 second"
      ],
      "text/latex": [
       "$8.817885349720552\\ \\mathrm{second}$"
      ],
      "text/plain": [
       "<Quantity(8.817885349720552, 'second')>"
      ]
     },
     "execution_count": 7,
     "metadata": {},
     "output_type": "execute_result"
    }
   ],
   "source": [
    "h = 381 * meter\n",
    "t = sqrt(2 * h / a)\n",
    "t"
   ]
  },
  {
   "cell_type": "markdown",
   "metadata": {
    "collapsed": true
   },
   "source": [
    "Dado 't', podemos calcular la velocidad del centavo cuando aterriza."
   ]
  },
  {
   "cell_type": "code",
   "execution_count": 8,
   "metadata": {},
   "outputs": [
    {
     "data": {
      "text/html": [
       "86.41527642726142 meter/second"
      ],
      "text/latex": [
       "$86.41527642726142\\ \\frac{\\mathrm{meter}}{\\mathrm{second}}$"
      ],
      "text/plain": [
       "<Quantity(86.41527642726142, 'meter / second')>"
      ]
     },
     "execution_count": 8,
     "metadata": {},
     "output_type": "execute_result"
    }
   ],
   "source": [
    "v = a * t\n",
    "v"
   ]
  },
  {
   "cell_type": "markdown",
   "metadata": {
    "collapsed": true
   },
   "source": [
    "Podemos convertir de un conjunto de unidades a otro asi:"
   ]
  },
  {
   "cell_type": "code",
   "execution_count": 9,
   "metadata": {
    "collapsed": true
   },
   "outputs": [],
   "source": [
    "mile = UNITS.mile\n",
    "hour= UNITS.hour"
   ]
  },
  {
   "cell_type": "code",
   "execution_count": 10,
   "metadata": {},
   "outputs": [
    {
     "data": {
      "text/html": [
       "193.30546802805438 mile/hour"
      ],
      "text/latex": [
       "$193.30546802805438\\ \\frac{\\mathrm{mile}}{\\mathrm{hour}}$"
      ],
      "text/plain": [
       "<Quantity(193.30546802805438, 'mile / hour')>"
      ]
     },
     "execution_count": 10,
     "metadata": {},
     "output_type": "execute_result"
    }
   ],
   "source": [
    "v.to(mile/hour)"
   ]
  },
  {
   "cell_type": "code",
   "execution_count": 21,
   "metadata": {},
   "outputs": [
    {
     "data": {
      "text/html": [
       "<iframe width=\"560\" height=\"315\" src=\"https://www.youtube.com/embed/PHxvMLoKRWg\" frameborder=\"0\" allow=\"autoplay; encrypted-media\" allowfullscreen></iframe>"
      ],
      "text/plain": [
       "<IPython.core.display.HTML object>"
      ]
     },
     "metadata": {},
     "output_type": "display_data"
    }
   ],
   "source": [
    "%%HTML\n",
    "<iframe width=\"560\" height=\"315\" src=\"https://www.youtube.com/embed/PHxvMLoKRWg\" frameborder=\"0\" allow=\"autoplay; encrypted-media\" allowfullscreen></iframe>\n"
   ]
  },
  {
   "cell_type": "markdown",
   "metadata": {},
   "source": [
    "**Ejercicio**:\n",
    "En realidad, la resistencia del aire evita que el centavo alcance esta velocidad. Aproximadamente a unos 20 metros por segundo, la fuerza de la resistencia del aire es igual a la fuerza de la gravedad y el centavo deja de acelerarse.\n",
    "\n",
    "Como simplificación, supongamos que la aceleración del centavo es \"a\" hasta que el centavo alcance los 20 metros por segundo, y despues 0. ¿Cuál es el tiempo total para que el centavo caiga 381 metros?\n"
   ]
  },
  {
   "cell_type": "markdown",
   "metadata": {},
   "source": [
    "Solución:\n",
    "\n",
    "Empezaremos por obtener las unidades que necesitaremos de Pint."
   ]
  },
  {
   "cell_type": "code",
   "execution_count": 11,
   "metadata": {
    "collapsed": true
   },
   "outputs": [],
   "source": [
    "m = UNITS.meter\n",
    "s = UNITS.second\n",
    "kg = UNITS.kilogram"
   ]
  },
  {
   "cell_type": "markdown",
   "metadata": {},
   "source": [
    "Y definiendo el estado inicial."
   ]
  },
  {
   "cell_type": "code",
   "execution_count": 12,
   "metadata": {},
   "outputs": [
    {
     "data": {
      "text/html": [
       "<div>\n",
       "<table border=\"1\" class=\"dataframe\">\n",
       "  <thead>\n",
       "    <tr style=\"text-align: right;\">\n",
       "      <th></th>\n",
       "      <th>value</th>\n",
       "    </tr>\n",
       "  </thead>\n",
       "  <tbody>\n",
       "    <tr>\n",
       "      <th>v</th>\n",
       "      <td>0.0 meter / second</td>\n",
       "    </tr>\n",
       "    <tr>\n",
       "      <th>y</th>\n",
       "      <td>381 meter</td>\n",
       "    </tr>\n",
       "  </tbody>\n",
       "</table>\n",
       "</div>"
      ],
      "text/plain": [
       "v    0.0 meter / second\n",
       "y             381 meter\n",
       "dtype: object"
      ]
     },
     "execution_count": 12,
     "metadata": {},
     "output_type": "execute_result"
    }
   ],
   "source": [
    "init = State(y=381 * m, \n",
    "             v=0 * m/s)\n",
    "init"
   ]
  },
  {
   "cell_type": "markdown",
   "metadata": {},
   "source": [
    "La aceleración debida a la gravedad es de aproximadamente 9.8 m / s $ ^ 2 $"
   ]
  },
  {
   "cell_type": "code",
   "execution_count": 13,
   "metadata": {
    "collapsed": true
   },
   "outputs": [],
   "source": [
    "g = 9.8 * m/s**2"
   ]
  },
  {
   "cell_type": "markdown",
   "metadata": {},
   "source": [
    "Cuando llamamos a odeint (investigar que es oident y que es linspace), necesitamos una lista de marcas de tiempo donde queremos calcular la solución.\n",
    "\n",
    "Comenzaremos con una duración de 10 segundos."
   ]
  },
  {
   "cell_type": "code",
   "execution_count": 19,
   "metadata": {},
   "outputs": [
    {
     "ename": "TypeError",
     "evalue": "data type not understood",
     "output_type": "error",
     "traceback": [
      "\u001b[1;31m---------------------------------------------------------------------------\u001b[0m",
      "\u001b[1;31mTypeError\u001b[0m                                 Traceback (most recent call last)",
      "\u001b[1;32m<ipython-input-19-9ec78957e49e>\u001b[0m in \u001b[0;36m<module>\u001b[1;34m()\u001b[0m\n\u001b[0;32m      3\u001b[0m \u001b[1;33m\u001b[0m\u001b[0m\n\u001b[0;32m      4\u001b[0m \u001b[0mduration\u001b[0m \u001b[1;33m=\u001b[0m \u001b[1;36m10\u001b[0m \u001b[1;33m*\u001b[0m \u001b[0ms\u001b[0m\u001b[1;33m\u001b[0m\u001b[0m\n\u001b[1;32m----> 5\u001b[1;33m \u001b[0mts\u001b[0m \u001b[1;33m=\u001b[0m \u001b[0mnp\u001b[0m\u001b[1;33m.\u001b[0m\u001b[0mlinspace\u001b[0m\u001b[1;33m(\u001b[0m\u001b[1;36m0\u001b[0m\u001b[1;33m,\u001b[0m \u001b[0mduration\u001b[0m\u001b[1;33m,\u001b[0m \u001b[1;36m11\u001b[0m\u001b[1;33m)\u001b[0m\u001b[1;33m\u001b[0m\u001b[0m\n\u001b[0m\u001b[0;32m      6\u001b[0m \u001b[1;31m#ts = np.linspace(0, 10, 11)\u001b[0m\u001b[1;33m\u001b[0m\u001b[1;33m\u001b[0m\u001b[0m\n\u001b[0;32m      7\u001b[0m \u001b[0mts\u001b[0m\u001b[1;33m\u001b[0m\u001b[0m\n",
      "\u001b[1;32mC:\\Anaconda3\\lib\\site-packages\\numpy\\core\\function_base.py\u001b[0m in \u001b[0;36mlinspace\u001b[1;34m(start, stop, num, endpoint, retstep, dtype)\u001b[0m\n\u001b[0;32m     91\u001b[0m     \u001b[0mstop\u001b[0m \u001b[1;33m=\u001b[0m \u001b[0mstop\u001b[0m \u001b[1;33m*\u001b[0m \u001b[1;36m1.\u001b[0m\u001b[1;33m\u001b[0m\u001b[0m\n\u001b[0;32m     92\u001b[0m \u001b[1;33m\u001b[0m\u001b[0m\n\u001b[1;32m---> 93\u001b[1;33m     \u001b[0mdt\u001b[0m \u001b[1;33m=\u001b[0m \u001b[0mresult_type\u001b[0m\u001b[1;33m(\u001b[0m\u001b[0mstart\u001b[0m\u001b[1;33m,\u001b[0m \u001b[0mstop\u001b[0m\u001b[1;33m,\u001b[0m \u001b[0mfloat\u001b[0m\u001b[1;33m(\u001b[0m\u001b[0mnum\u001b[0m\u001b[1;33m)\u001b[0m\u001b[1;33m)\u001b[0m\u001b[1;33m\u001b[0m\u001b[0m\n\u001b[0m\u001b[0;32m     94\u001b[0m     \u001b[1;32mif\u001b[0m \u001b[0mdtype\u001b[0m \u001b[1;32mis\u001b[0m \u001b[1;32mNone\u001b[0m\u001b[1;33m:\u001b[0m\u001b[1;33m\u001b[0m\u001b[0m\n\u001b[0;32m     95\u001b[0m         \u001b[0mdtype\u001b[0m \u001b[1;33m=\u001b[0m \u001b[0mdt\u001b[0m\u001b[1;33m\u001b[0m\u001b[0m\n",
      "\u001b[1;31mTypeError\u001b[0m: data type not understood"
     ]
    }
   ],
   "source": [
    "import numpy as np\n",
    "\n",
    "\n",
    "duration = 10 * s\n",
    "ts = np.linspace(0, duration, 11)\n",
    "#ts = np.linspace(0, 10, 11)\n",
    "ts"
   ]
  },
  {
   "cell_type": "markdown",
   "metadata": {},
   "source": [
    "Ahora hacemos un objeto como Sistema."
   ]
  },
  {
   "cell_type": "code",
   "execution_count": 34,
   "metadata": {
    "collapsed": true
   },
   "outputs": [],
   "source": [
    "system = System(init=init, g=g, ts=ts)"
   ]
  },
  {
   "cell_type": "markdown",
   "metadata": {},
   "source": [
    "Y se define la función de pendiente."
   ]
  },
  {
   "cell_type": "code",
   "execution_count": 35,
   "metadata": {
    "collapsed": true
   },
   "outputs": [],
   "source": [
    "def slope_func(state, t, system):\n",
    "    \"\"\"Calcula derivados del estado.\n",
    "    \n",
    "     estado: posición, velocidad\n",
    "     t: tiempo\n",
    "     sistema: objeto del sistema que contiene `g`\n",
    "    \n",
    "     devoluciones: derivadas de y & v\n",
    "    \"\"\"\n",
    "    y, v = state\n",
    "    unpack(system)    \n",
    "\n",
    "    dydt = v\n",
    "    dvdt = -g\n",
    "    \n",
    "    return dydt, dvdt"
   ]
  },
  {
   "cell_type": "markdown",
   "metadata": {},
   "source": [
    "Siempre es una buena idea probar la función de pendiente con las condiciones iniciales."
   ]
  },
  {
   "cell_type": "code",
   "execution_count": 36,
   "metadata": {},
   "outputs": [
    {
     "name": "stdout",
     "output_type": "stream",
     "text": [
      "0.0 meter / second\n",
      "-9.8 meter / second ** 2\n"
     ]
    }
   ],
   "source": [
    "dydt, dvdt = slope_func(init, 0, system)\n",
    "print(dydt)\n",
    "print(dvdt)"
   ]
  },
  {
   "cell_type": "markdown",
   "metadata": {},
   "source": [
    "Ahora estamos listos para ejecutar odeint"
   ]
  },
  {
   "cell_type": "code",
   "execution_count": 37,
   "metadata": {
    "collapsed": true
   },
   "outputs": [],
   "source": [
    "run_odeint(system, slope_func)"
   ]
  },
  {
   "cell_type": "markdown",
   "metadata": {},
   "source": [
    "Así es como se ven los resultados."
   ]
  },
  {
   "cell_type": "code",
   "execution_count": 38,
   "metadata": {},
   "outputs": [
    {
     "data": {
      "text/html": [
       "<div>\n",
       "<table border=\"1\" class=\"dataframe\">\n",
       "  <thead>\n",
       "    <tr style=\"text-align: right;\">\n",
       "      <th></th>\n",
       "      <th>y</th>\n",
       "      <th>v</th>\n",
       "    </tr>\n",
       "  </thead>\n",
       "  <tbody>\n",
       "    <tr>\n",
       "      <th>0.0</th>\n",
       "      <td>381.0</td>\n",
       "      <td>0.0</td>\n",
       "    </tr>\n",
       "    <tr>\n",
       "      <th>1.0</th>\n",
       "      <td>376.1</td>\n",
       "      <td>-9.8</td>\n",
       "    </tr>\n",
       "    <tr>\n",
       "      <th>2.0</th>\n",
       "      <td>361.4</td>\n",
       "      <td>-19.6</td>\n",
       "    </tr>\n",
       "    <tr>\n",
       "      <th>3.0</th>\n",
       "      <td>336.9</td>\n",
       "      <td>-29.4</td>\n",
       "    </tr>\n",
       "    <tr>\n",
       "      <th>4.0</th>\n",
       "      <td>302.6</td>\n",
       "      <td>-39.2</td>\n",
       "    </tr>\n",
       "  </tbody>\n",
       "</table>\n",
       "</div>"
      ],
      "text/plain": [
       "         y     v\n",
       "0.0  381.0   0.0\n",
       "1.0  376.1  -9.8\n",
       "2.0  361.4 -19.6\n",
       "3.0  336.9 -29.4\n",
       "4.0  302.6 -39.2"
      ]
     },
     "execution_count": 38,
     "metadata": {},
     "output_type": "execute_result"
    }
   ],
   "source": [
    "system.results.head()"
   ]
  },
  {
   "cell_type": "code",
   "execution_count": 39,
   "metadata": {},
   "outputs": [
    {
     "data": {
      "text/html": [
       "<div>\n",
       "<table border=\"1\" class=\"dataframe\">\n",
       "  <thead>\n",
       "    <tr style=\"text-align: right;\">\n",
       "      <th></th>\n",
       "      <th>y</th>\n",
       "      <th>v</th>\n",
       "    </tr>\n",
       "  </thead>\n",
       "  <tbody>\n",
       "    <tr>\n",
       "      <th>16.0</th>\n",
       "      <td>-873.4</td>\n",
       "      <td>-156.8</td>\n",
       "    </tr>\n",
       "    <tr>\n",
       "      <th>17.0</th>\n",
       "      <td>-1035.1</td>\n",
       "      <td>-166.6</td>\n",
       "    </tr>\n",
       "    <tr>\n",
       "      <th>18.0</th>\n",
       "      <td>-1206.6</td>\n",
       "      <td>-176.4</td>\n",
       "    </tr>\n",
       "    <tr>\n",
       "      <th>19.0</th>\n",
       "      <td>-1387.9</td>\n",
       "      <td>-186.2</td>\n",
       "    </tr>\n",
       "    <tr>\n",
       "      <th>20.0</th>\n",
       "      <td>-1579.0</td>\n",
       "      <td>-196.0</td>\n",
       "    </tr>\n",
       "  </tbody>\n",
       "</table>\n",
       "</div>"
      ],
      "text/plain": [
       "           y      v\n",
       "16.0  -873.4 -156.8\n",
       "17.0 -1035.1 -166.6\n",
       "18.0 -1206.6 -176.4\n",
       "19.0 -1387.9 -186.2\n",
       "20.0 -1579.0 -196.0"
      ]
     },
     "execution_count": 39,
     "metadata": {},
     "output_type": "execute_result"
    }
   ],
   "source": [
    "system.results.tail()"
   ]
  },
  {
   "cell_type": "markdown",
   "metadata": {},
   "source": [
    "La siguiente función traza los resultados."
   ]
  },
  {
   "cell_type": "code",
   "execution_count": 40,
   "metadata": {
    "collapsed": true
   },
   "outputs": [],
   "source": [
    "\n",
    "\n",
    "def plot_position(results):\n",
    "    \"\"\"Traza los resultados.\n",
    "    \n",
    "     resultados: DataFrame con posición, `y`\n",
    "    \"\"\"\n",
    "    newfig()\n",
    "    plot(results.y, label='y')\n",
    "        \n",
    "    decorate(xlabel='Time (s)',\n",
    "             ylabel='Position (m)')"
   ]
  },
  {
   "cell_type": "markdown",
   "metadata": {},
   "source": [
    "Así se ve"
   ]
  },
  {
   "cell_type": "code",
   "execution_count": 41,
   "metadata": {},
   "outputs": [
    {
     "data": {
      "application/javascript": [
       "/* Put everything inside the global mpl namespace */\n",
       "window.mpl = {};\n",
       "\n",
       "mpl.get_websocket_type = function() {\n",
       "    if (typeof(WebSocket) !== 'undefined') {\n",
       "        return WebSocket;\n",
       "    } else if (typeof(MozWebSocket) !== 'undefined') {\n",
       "        return MozWebSocket;\n",
       "    } else {\n",
       "        alert('Your browser does not have WebSocket support.' +\n",
       "              'Please try Chrome, Safari or Firefox ≥ 6. ' +\n",
       "              'Firefox 4 and 5 are also supported but you ' +\n",
       "              'have to enable WebSockets in about:config.');\n",
       "    };\n",
       "}\n",
       "\n",
       "mpl.figure = function(figure_id, websocket, ondownload, parent_element) {\n",
       "    this.id = figure_id;\n",
       "\n",
       "    this.ws = websocket;\n",
       "\n",
       "    this.supports_binary = (this.ws.binaryType != undefined);\n",
       "\n",
       "    if (!this.supports_binary) {\n",
       "        var warnings = document.getElementById(\"mpl-warnings\");\n",
       "        if (warnings) {\n",
       "            warnings.style.display = 'block';\n",
       "            warnings.textContent = (\n",
       "                \"This browser does not support binary websocket messages. \" +\n",
       "                    \"Performance may be slow.\");\n",
       "        }\n",
       "    }\n",
       "\n",
       "    this.imageObj = new Image();\n",
       "\n",
       "    this.context = undefined;\n",
       "    this.message = undefined;\n",
       "    this.canvas = undefined;\n",
       "    this.rubberband_canvas = undefined;\n",
       "    this.rubberband_context = undefined;\n",
       "    this.format_dropdown = undefined;\n",
       "\n",
       "    this.image_mode = 'full';\n",
       "\n",
       "    this.root = $('<div/>');\n",
       "    this._root_extra_style(this.root)\n",
       "    this.root.attr('style', 'display: inline-block');\n",
       "\n",
       "    $(parent_element).append(this.root);\n",
       "\n",
       "    this._init_header(this);\n",
       "    this._init_canvas(this);\n",
       "    this._init_toolbar(this);\n",
       "\n",
       "    var fig = this;\n",
       "\n",
       "    this.waiting = false;\n",
       "\n",
       "    this.ws.onopen =  function () {\n",
       "            fig.send_message(\"supports_binary\", {value: fig.supports_binary});\n",
       "            fig.send_message(\"send_image_mode\", {});\n",
       "            fig.send_message(\"refresh\", {});\n",
       "        }\n",
       "\n",
       "    this.imageObj.onload = function() {\n",
       "            if (fig.image_mode == 'full') {\n",
       "                // Full images could contain transparency (where diff images\n",
       "                // almost always do), so we need to clear the canvas so that\n",
       "                // there is no ghosting.\n",
       "                fig.context.clearRect(0, 0, fig.canvas.width, fig.canvas.height);\n",
       "            }\n",
       "            fig.context.drawImage(fig.imageObj, 0, 0);\n",
       "        };\n",
       "\n",
       "    this.imageObj.onunload = function() {\n",
       "        this.ws.close();\n",
       "    }\n",
       "\n",
       "    this.ws.onmessage = this._make_on_message_function(this);\n",
       "\n",
       "    this.ondownload = ondownload;\n",
       "}\n",
       "\n",
       "mpl.figure.prototype._init_header = function() {\n",
       "    var titlebar = $(\n",
       "        '<div class=\"ui-dialog-titlebar ui-widget-header ui-corner-all ' +\n",
       "        'ui-helper-clearfix\"/>');\n",
       "    var titletext = $(\n",
       "        '<div class=\"ui-dialog-title\" style=\"width: 100%; ' +\n",
       "        'text-align: center; padding: 3px;\"/>');\n",
       "    titlebar.append(titletext)\n",
       "    this.root.append(titlebar);\n",
       "    this.header = titletext[0];\n",
       "}\n",
       "\n",
       "\n",
       "\n",
       "mpl.figure.prototype._canvas_extra_style = function(canvas_div) {\n",
       "\n",
       "}\n",
       "\n",
       "\n",
       "mpl.figure.prototype._root_extra_style = function(canvas_div) {\n",
       "\n",
       "}\n",
       "\n",
       "mpl.figure.prototype._init_canvas = function() {\n",
       "    var fig = this;\n",
       "\n",
       "    var canvas_div = $('<div/>');\n",
       "\n",
       "    canvas_div.attr('style', 'position: relative; clear: both; outline: 0');\n",
       "\n",
       "    function canvas_keyboard_event(event) {\n",
       "        return fig.key_event(event, event['data']);\n",
       "    }\n",
       "\n",
       "    canvas_div.keydown('key_press', canvas_keyboard_event);\n",
       "    canvas_div.keyup('key_release', canvas_keyboard_event);\n",
       "    this.canvas_div = canvas_div\n",
       "    this._canvas_extra_style(canvas_div)\n",
       "    this.root.append(canvas_div);\n",
       "\n",
       "    var canvas = $('<canvas/>');\n",
       "    canvas.addClass('mpl-canvas');\n",
       "    canvas.attr('style', \"left: 0; top: 0; z-index: 0; outline: 0\")\n",
       "\n",
       "    this.canvas = canvas[0];\n",
       "    this.context = canvas[0].getContext(\"2d\");\n",
       "\n",
       "    var rubberband = $('<canvas/>');\n",
       "    rubberband.attr('style', \"position: absolute; left: 0; top: 0; z-index: 1;\")\n",
       "\n",
       "    var pass_mouse_events = true;\n",
       "\n",
       "    canvas_div.resizable({\n",
       "        start: function(event, ui) {\n",
       "            pass_mouse_events = false;\n",
       "        },\n",
       "        resize: function(event, ui) {\n",
       "            fig.request_resize(ui.size.width, ui.size.height);\n",
       "        },\n",
       "        stop: function(event, ui) {\n",
       "            pass_mouse_events = true;\n",
       "            fig.request_resize(ui.size.width, ui.size.height);\n",
       "        },\n",
       "    });\n",
       "\n",
       "    function mouse_event_fn(event) {\n",
       "        if (pass_mouse_events)\n",
       "            return fig.mouse_event(event, event['data']);\n",
       "    }\n",
       "\n",
       "    rubberband.mousedown('button_press', mouse_event_fn);\n",
       "    rubberband.mouseup('button_release', mouse_event_fn);\n",
       "    // Throttle sequential mouse events to 1 every 20ms.\n",
       "    rubberband.mousemove('motion_notify', mouse_event_fn);\n",
       "\n",
       "    rubberband.mouseenter('figure_enter', mouse_event_fn);\n",
       "    rubberband.mouseleave('figure_leave', mouse_event_fn);\n",
       "\n",
       "    canvas_div.on(\"wheel\", function (event) {\n",
       "        event = event.originalEvent;\n",
       "        event['data'] = 'scroll'\n",
       "        if (event.deltaY < 0) {\n",
       "            event.step = 1;\n",
       "        } else {\n",
       "            event.step = -1;\n",
       "        }\n",
       "        mouse_event_fn(event);\n",
       "    });\n",
       "\n",
       "    canvas_div.append(canvas);\n",
       "    canvas_div.append(rubberband);\n",
       "\n",
       "    this.rubberband = rubberband;\n",
       "    this.rubberband_canvas = rubberband[0];\n",
       "    this.rubberband_context = rubberband[0].getContext(\"2d\");\n",
       "    this.rubberband_context.strokeStyle = \"#000000\";\n",
       "\n",
       "    this._resize_canvas = function(width, height) {\n",
       "        // Keep the size of the canvas, canvas container, and rubber band\n",
       "        // canvas in synch.\n",
       "        canvas_div.css('width', width)\n",
       "        canvas_div.css('height', height)\n",
       "\n",
       "        canvas.attr('width', width);\n",
       "        canvas.attr('height', height);\n",
       "\n",
       "        rubberband.attr('width', width);\n",
       "        rubberband.attr('height', height);\n",
       "    }\n",
       "\n",
       "    // Set the figure to an initial 600x600px, this will subsequently be updated\n",
       "    // upon first draw.\n",
       "    this._resize_canvas(600, 600);\n",
       "\n",
       "    // Disable right mouse context menu.\n",
       "    $(this.rubberband_canvas).bind(\"contextmenu\",function(e){\n",
       "        return false;\n",
       "    });\n",
       "\n",
       "    function set_focus () {\n",
       "        canvas.focus();\n",
       "        canvas_div.focus();\n",
       "    }\n",
       "\n",
       "    window.setTimeout(set_focus, 100);\n",
       "}\n",
       "\n",
       "mpl.figure.prototype._init_toolbar = function() {\n",
       "    var fig = this;\n",
       "\n",
       "    var nav_element = $('<div/>')\n",
       "    nav_element.attr('style', 'width: 100%');\n",
       "    this.root.append(nav_element);\n",
       "\n",
       "    // Define a callback function for later on.\n",
       "    function toolbar_event(event) {\n",
       "        return fig.toolbar_button_onclick(event['data']);\n",
       "    }\n",
       "    function toolbar_mouse_event(event) {\n",
       "        return fig.toolbar_button_onmouseover(event['data']);\n",
       "    }\n",
       "\n",
       "    for(var toolbar_ind in mpl.toolbar_items) {\n",
       "        var name = mpl.toolbar_items[toolbar_ind][0];\n",
       "        var tooltip = mpl.toolbar_items[toolbar_ind][1];\n",
       "        var image = mpl.toolbar_items[toolbar_ind][2];\n",
       "        var method_name = mpl.toolbar_items[toolbar_ind][3];\n",
       "\n",
       "        if (!name) {\n",
       "            // put a spacer in here.\n",
       "            continue;\n",
       "        }\n",
       "        var button = $('<button/>');\n",
       "        button.addClass('ui-button ui-widget ui-state-default ui-corner-all ' +\n",
       "                        'ui-button-icon-only');\n",
       "        button.attr('role', 'button');\n",
       "        button.attr('aria-disabled', 'false');\n",
       "        button.click(method_name, toolbar_event);\n",
       "        button.mouseover(tooltip, toolbar_mouse_event);\n",
       "\n",
       "        var icon_img = $('<span/>');\n",
       "        icon_img.addClass('ui-button-icon-primary ui-icon');\n",
       "        icon_img.addClass(image);\n",
       "        icon_img.addClass('ui-corner-all');\n",
       "\n",
       "        var tooltip_span = $('<span/>');\n",
       "        tooltip_span.addClass('ui-button-text');\n",
       "        tooltip_span.html(tooltip);\n",
       "\n",
       "        button.append(icon_img);\n",
       "        button.append(tooltip_span);\n",
       "\n",
       "        nav_element.append(button);\n",
       "    }\n",
       "\n",
       "    var fmt_picker_span = $('<span/>');\n",
       "\n",
       "    var fmt_picker = $('<select/>');\n",
       "    fmt_picker.addClass('mpl-toolbar-option ui-widget ui-widget-content');\n",
       "    fmt_picker_span.append(fmt_picker);\n",
       "    nav_element.append(fmt_picker_span);\n",
       "    this.format_dropdown = fmt_picker[0];\n",
       "\n",
       "    for (var ind in mpl.extensions) {\n",
       "        var fmt = mpl.extensions[ind];\n",
       "        var option = $(\n",
       "            '<option/>', {selected: fmt === mpl.default_extension}).html(fmt);\n",
       "        fmt_picker.append(option)\n",
       "    }\n",
       "\n",
       "    // Add hover states to the ui-buttons\n",
       "    $( \".ui-button\" ).hover(\n",
       "        function() { $(this).addClass(\"ui-state-hover\");},\n",
       "        function() { $(this).removeClass(\"ui-state-hover\");}\n",
       "    );\n",
       "\n",
       "    var status_bar = $('<span class=\"mpl-message\"/>');\n",
       "    nav_element.append(status_bar);\n",
       "    this.message = status_bar[0];\n",
       "}\n",
       "\n",
       "mpl.figure.prototype.request_resize = function(x_pixels, y_pixels) {\n",
       "    // Request matplotlib to resize the figure. Matplotlib will then trigger a resize in the client,\n",
       "    // which will in turn request a refresh of the image.\n",
       "    this.send_message('resize', {'width': x_pixels, 'height': y_pixels});\n",
       "}\n",
       "\n",
       "mpl.figure.prototype.send_message = function(type, properties) {\n",
       "    properties['type'] = type;\n",
       "    properties['figure_id'] = this.id;\n",
       "    this.ws.send(JSON.stringify(properties));\n",
       "}\n",
       "\n",
       "mpl.figure.prototype.send_draw_message = function() {\n",
       "    if (!this.waiting) {\n",
       "        this.waiting = true;\n",
       "        this.ws.send(JSON.stringify({type: \"draw\", figure_id: this.id}));\n",
       "    }\n",
       "}\n",
       "\n",
       "\n",
       "mpl.figure.prototype.handle_save = function(fig, msg) {\n",
       "    var format_dropdown = fig.format_dropdown;\n",
       "    var format = format_dropdown.options[format_dropdown.selectedIndex].value;\n",
       "    fig.ondownload(fig, format);\n",
       "}\n",
       "\n",
       "\n",
       "mpl.figure.prototype.handle_resize = function(fig, msg) {\n",
       "    var size = msg['size'];\n",
       "    if (size[0] != fig.canvas.width || size[1] != fig.canvas.height) {\n",
       "        fig._resize_canvas(size[0], size[1]);\n",
       "        fig.send_message(\"refresh\", {});\n",
       "    };\n",
       "}\n",
       "\n",
       "mpl.figure.prototype.handle_rubberband = function(fig, msg) {\n",
       "    var x0 = msg['x0'];\n",
       "    var y0 = fig.canvas.height - msg['y0'];\n",
       "    var x1 = msg['x1'];\n",
       "    var y1 = fig.canvas.height - msg['y1'];\n",
       "    x0 = Math.floor(x0) + 0.5;\n",
       "    y0 = Math.floor(y0) + 0.5;\n",
       "    x1 = Math.floor(x1) + 0.5;\n",
       "    y1 = Math.floor(y1) + 0.5;\n",
       "    var min_x = Math.min(x0, x1);\n",
       "    var min_y = Math.min(y0, y1);\n",
       "    var width = Math.abs(x1 - x0);\n",
       "    var height = Math.abs(y1 - y0);\n",
       "\n",
       "    fig.rubberband_context.clearRect(\n",
       "        0, 0, fig.canvas.width, fig.canvas.height);\n",
       "\n",
       "    fig.rubberband_context.strokeRect(min_x, min_y, width, height);\n",
       "}\n",
       "\n",
       "mpl.figure.prototype.handle_figure_label = function(fig, msg) {\n",
       "    // Updates the figure title.\n",
       "    fig.header.textContent = msg['label'];\n",
       "}\n",
       "\n",
       "mpl.figure.prototype.handle_cursor = function(fig, msg) {\n",
       "    var cursor = msg['cursor'];\n",
       "    switch(cursor)\n",
       "    {\n",
       "    case 0:\n",
       "        cursor = 'pointer';\n",
       "        break;\n",
       "    case 1:\n",
       "        cursor = 'default';\n",
       "        break;\n",
       "    case 2:\n",
       "        cursor = 'crosshair';\n",
       "        break;\n",
       "    case 3:\n",
       "        cursor = 'move';\n",
       "        break;\n",
       "    }\n",
       "    fig.rubberband_canvas.style.cursor = cursor;\n",
       "}\n",
       "\n",
       "mpl.figure.prototype.handle_message = function(fig, msg) {\n",
       "    fig.message.textContent = msg['message'];\n",
       "}\n",
       "\n",
       "mpl.figure.prototype.handle_draw = function(fig, msg) {\n",
       "    // Request the server to send over a new figure.\n",
       "    fig.send_draw_message();\n",
       "}\n",
       "\n",
       "mpl.figure.prototype.handle_image_mode = function(fig, msg) {\n",
       "    fig.image_mode = msg['mode'];\n",
       "}\n",
       "\n",
       "mpl.figure.prototype.updated_canvas_event = function() {\n",
       "    // Called whenever the canvas gets updated.\n",
       "    this.send_message(\"ack\", {});\n",
       "}\n",
       "\n",
       "// A function to construct a web socket function for onmessage handling.\n",
       "// Called in the figure constructor.\n",
       "mpl.figure.prototype._make_on_message_function = function(fig) {\n",
       "    return function socket_on_message(evt) {\n",
       "        if (evt.data instanceof Blob) {\n",
       "            /* FIXME: We get \"Resource interpreted as Image but\n",
       "             * transferred with MIME type text/plain:\" errors on\n",
       "             * Chrome.  But how to set the MIME type?  It doesn't seem\n",
       "             * to be part of the websocket stream */\n",
       "            evt.data.type = \"image/png\";\n",
       "\n",
       "            /* Free the memory for the previous frames */\n",
       "            if (fig.imageObj.src) {\n",
       "                (window.URL || window.webkitURL).revokeObjectURL(\n",
       "                    fig.imageObj.src);\n",
       "            }\n",
       "\n",
       "            fig.imageObj.src = (window.URL || window.webkitURL).createObjectURL(\n",
       "                evt.data);\n",
       "            fig.updated_canvas_event();\n",
       "            fig.waiting = false;\n",
       "            return;\n",
       "        }\n",
       "        else if (typeof evt.data === 'string' && evt.data.slice(0, 21) == \"data:image/png;base64\") {\n",
       "            fig.imageObj.src = evt.data;\n",
       "            fig.updated_canvas_event();\n",
       "            fig.waiting = false;\n",
       "            return;\n",
       "        }\n",
       "\n",
       "        var msg = JSON.parse(evt.data);\n",
       "        var msg_type = msg['type'];\n",
       "\n",
       "        // Call the  \"handle_{type}\" callback, which takes\n",
       "        // the figure and JSON message as its only arguments.\n",
       "        try {\n",
       "            var callback = fig[\"handle_\" + msg_type];\n",
       "        } catch (e) {\n",
       "            console.log(\"No handler for the '\" + msg_type + \"' message type: \", msg);\n",
       "            return;\n",
       "        }\n",
       "\n",
       "        if (callback) {\n",
       "            try {\n",
       "                // console.log(\"Handling '\" + msg_type + \"' message: \", msg);\n",
       "                callback(fig, msg);\n",
       "            } catch (e) {\n",
       "                console.log(\"Exception inside the 'handler_\" + msg_type + \"' callback:\", e, e.stack, msg);\n",
       "            }\n",
       "        }\n",
       "    };\n",
       "}\n",
       "\n",
       "// from http://stackoverflow.com/questions/1114465/getting-mouse-location-in-canvas\n",
       "mpl.findpos = function(e) {\n",
       "    //this section is from http://www.quirksmode.org/js/events_properties.html\n",
       "    var targ;\n",
       "    if (!e)\n",
       "        e = window.event;\n",
       "    if (e.target)\n",
       "        targ = e.target;\n",
       "    else if (e.srcElement)\n",
       "        targ = e.srcElement;\n",
       "    if (targ.nodeType == 3) // defeat Safari bug\n",
       "        targ = targ.parentNode;\n",
       "\n",
       "    // jQuery normalizes the pageX and pageY\n",
       "    // pageX,Y are the mouse positions relative to the document\n",
       "    // offset() returns the position of the element relative to the document\n",
       "    var x = e.pageX - $(targ).offset().left;\n",
       "    var y = e.pageY - $(targ).offset().top;\n",
       "\n",
       "    return {\"x\": x, \"y\": y};\n",
       "};\n",
       "\n",
       "/*\n",
       " * return a copy of an object with only non-object keys\n",
       " * we need this to avoid circular references\n",
       " * http://stackoverflow.com/a/24161582/3208463\n",
       " */\n",
       "function simpleKeys (original) {\n",
       "  return Object.keys(original).reduce(function (obj, key) {\n",
       "    if (typeof original[key] !== 'object')\n",
       "        obj[key] = original[key]\n",
       "    return obj;\n",
       "  }, {});\n",
       "}\n",
       "\n",
       "mpl.figure.prototype.mouse_event = function(event, name) {\n",
       "    var canvas_pos = mpl.findpos(event)\n",
       "\n",
       "    if (name === 'button_press')\n",
       "    {\n",
       "        this.canvas.focus();\n",
       "        this.canvas_div.focus();\n",
       "    }\n",
       "\n",
       "    var x = canvas_pos.x;\n",
       "    var y = canvas_pos.y;\n",
       "\n",
       "    this.send_message(name, {x: x, y: y, button: event.button,\n",
       "                             step: event.step,\n",
       "                             guiEvent: simpleKeys(event)});\n",
       "\n",
       "    /* This prevents the web browser from automatically changing to\n",
       "     * the text insertion cursor when the button is pressed.  We want\n",
       "     * to control all of the cursor setting manually through the\n",
       "     * 'cursor' event from matplotlib */\n",
       "    event.preventDefault();\n",
       "    return false;\n",
       "}\n",
       "\n",
       "mpl.figure.prototype._key_event_extra = function(event, name) {\n",
       "    // Handle any extra behaviour associated with a key event\n",
       "}\n",
       "\n",
       "mpl.figure.prototype.key_event = function(event, name) {\n",
       "\n",
       "    // Prevent repeat events\n",
       "    if (name == 'key_press')\n",
       "    {\n",
       "        if (event.which === this._key)\n",
       "            return;\n",
       "        else\n",
       "            this._key = event.which;\n",
       "    }\n",
       "    if (name == 'key_release')\n",
       "        this._key = null;\n",
       "\n",
       "    var value = '';\n",
       "    if (event.ctrlKey && event.which != 17)\n",
       "        value += \"ctrl+\";\n",
       "    if (event.altKey && event.which != 18)\n",
       "        value += \"alt+\";\n",
       "    if (event.shiftKey && event.which != 16)\n",
       "        value += \"shift+\";\n",
       "\n",
       "    value += 'k';\n",
       "    value += event.which.toString();\n",
       "\n",
       "    this._key_event_extra(event, name);\n",
       "\n",
       "    this.send_message(name, {key: value,\n",
       "                             guiEvent: simpleKeys(event)});\n",
       "    return false;\n",
       "}\n",
       "\n",
       "mpl.figure.prototype.toolbar_button_onclick = function(name) {\n",
       "    if (name == 'download') {\n",
       "        this.handle_save(this, null);\n",
       "    } else {\n",
       "        this.send_message(\"toolbar_button\", {name: name});\n",
       "    }\n",
       "};\n",
       "\n",
       "mpl.figure.prototype.toolbar_button_onmouseover = function(tooltip) {\n",
       "    this.message.textContent = tooltip;\n",
       "};\n",
       "mpl.toolbar_items = [[\"Home\", \"Reset original view\", \"fa fa-home icon-home\", \"home\"], [\"Back\", \"Back to  previous view\", \"fa fa-arrow-left icon-arrow-left\", \"back\"], [\"Forward\", \"Forward to next view\", \"fa fa-arrow-right icon-arrow-right\", \"forward\"], [\"\", \"\", \"\", \"\"], [\"Pan\", \"Pan axes with left mouse, zoom with right\", \"fa fa-arrows icon-move\", \"pan\"], [\"Zoom\", \"Zoom to rectangle\", \"fa fa-square-o icon-check-empty\", \"zoom\"], [\"\", \"\", \"\", \"\"], [\"Download\", \"Download plot\", \"fa fa-floppy-o icon-save\", \"download\"]];\n",
       "\n",
       "mpl.extensions = [\"eps\", \"jpeg\", \"pdf\", \"png\", \"ps\", \"raw\", \"svg\", \"tif\"];\n",
       "\n",
       "mpl.default_extension = \"png\";var comm_websocket_adapter = function(comm) {\n",
       "    // Create a \"websocket\"-like object which calls the given IPython comm\n",
       "    // object with the appropriate methods. Currently this is a non binary\n",
       "    // socket, so there is still some room for performance tuning.\n",
       "    var ws = {};\n",
       "\n",
       "    ws.close = function() {\n",
       "        comm.close()\n",
       "    };\n",
       "    ws.send = function(m) {\n",
       "        //console.log('sending', m);\n",
       "        comm.send(m);\n",
       "    };\n",
       "    // Register the callback with on_msg.\n",
       "    comm.on_msg(function(msg) {\n",
       "        //console.log('receiving', msg['content']['data'], msg);\n",
       "        // Pass the mpl event to the overriden (by mpl) onmessage function.\n",
       "        ws.onmessage(msg['content']['data'])\n",
       "    });\n",
       "    return ws;\n",
       "}\n",
       "\n",
       "mpl.mpl_figure_comm = function(comm, msg) {\n",
       "    // This is the function which gets called when the mpl process\n",
       "    // starts-up an IPython Comm through the \"matplotlib\" channel.\n",
       "\n",
       "    var id = msg.content.data.id;\n",
       "    // Get hold of the div created by the display call when the Comm\n",
       "    // socket was opened in Python.\n",
       "    var element = $(\"#\" + id);\n",
       "    var ws_proxy = comm_websocket_adapter(comm)\n",
       "\n",
       "    function ondownload(figure, format) {\n",
       "        window.open(figure.imageObj.src);\n",
       "    }\n",
       "\n",
       "    var fig = new mpl.figure(id, ws_proxy,\n",
       "                           ondownload,\n",
       "                           element.get(0));\n",
       "\n",
       "    // Call onopen now - mpl needs it, as it is assuming we've passed it a real\n",
       "    // web socket which is closed, not our websocket->open comm proxy.\n",
       "    ws_proxy.onopen();\n",
       "\n",
       "    fig.parent_element = element.get(0);\n",
       "    fig.cell_info = mpl.find_output_cell(\"<div id='\" + id + \"'></div>\");\n",
       "    if (!fig.cell_info) {\n",
       "        console.error(\"Failed to find cell for figure\", id, fig);\n",
       "        return;\n",
       "    }\n",
       "\n",
       "    var output_index = fig.cell_info[2]\n",
       "    var cell = fig.cell_info[0];\n",
       "\n",
       "};\n",
       "\n",
       "mpl.figure.prototype.handle_close = function(fig, msg) {\n",
       "    fig.root.unbind('remove')\n",
       "\n",
       "    // Update the output cell to use the data from the current canvas.\n",
       "    fig.push_to_output();\n",
       "    var dataURL = fig.canvas.toDataURL();\n",
       "    // Re-enable the keyboard manager in IPython - without this line, in FF,\n",
       "    // the notebook keyboard shortcuts fail.\n",
       "    IPython.keyboard_manager.enable()\n",
       "    $(fig.parent_element).html('<img src=\"' + dataURL + '\">');\n",
       "    fig.close_ws(fig, msg);\n",
       "}\n",
       "\n",
       "mpl.figure.prototype.close_ws = function(fig, msg){\n",
       "    fig.send_message('closing', msg);\n",
       "    // fig.ws.close()\n",
       "}\n",
       "\n",
       "mpl.figure.prototype.push_to_output = function(remove_interactive) {\n",
       "    // Turn the data on the canvas into data in the output cell.\n",
       "    var dataURL = this.canvas.toDataURL();\n",
       "    this.cell_info[1]['text/html'] = '<img src=\"' + dataURL + '\">';\n",
       "}\n",
       "\n",
       "mpl.figure.prototype.updated_canvas_event = function() {\n",
       "    // Tell IPython that the notebook contents must change.\n",
       "    IPython.notebook.set_dirty(true);\n",
       "    this.send_message(\"ack\", {});\n",
       "    var fig = this;\n",
       "    // Wait a second, then push the new image to the DOM so\n",
       "    // that it is saved nicely (might be nice to debounce this).\n",
       "    setTimeout(function () { fig.push_to_output() }, 1000);\n",
       "}\n",
       "\n",
       "mpl.figure.prototype._init_toolbar = function() {\n",
       "    var fig = this;\n",
       "\n",
       "    var nav_element = $('<div/>')\n",
       "    nav_element.attr('style', 'width: 100%');\n",
       "    this.root.append(nav_element);\n",
       "\n",
       "    // Define a callback function for later on.\n",
       "    function toolbar_event(event) {\n",
       "        return fig.toolbar_button_onclick(event['data']);\n",
       "    }\n",
       "    function toolbar_mouse_event(event) {\n",
       "        return fig.toolbar_button_onmouseover(event['data']);\n",
       "    }\n",
       "\n",
       "    for(var toolbar_ind in mpl.toolbar_items){\n",
       "        var name = mpl.toolbar_items[toolbar_ind][0];\n",
       "        var tooltip = mpl.toolbar_items[toolbar_ind][1];\n",
       "        var image = mpl.toolbar_items[toolbar_ind][2];\n",
       "        var method_name = mpl.toolbar_items[toolbar_ind][3];\n",
       "\n",
       "        if (!name) { continue; };\n",
       "\n",
       "        var button = $('<button class=\"btn btn-default\" href=\"#\" title=\"' + name + '\"><i class=\"fa ' + image + ' fa-lg\"></i></button>');\n",
       "        button.click(method_name, toolbar_event);\n",
       "        button.mouseover(tooltip, toolbar_mouse_event);\n",
       "        nav_element.append(button);\n",
       "    }\n",
       "\n",
       "    // Add the status bar.\n",
       "    var status_bar = $('<span class=\"mpl-message\" style=\"text-align:right; float: right;\"/>');\n",
       "    nav_element.append(status_bar);\n",
       "    this.message = status_bar[0];\n",
       "\n",
       "    // Add the close button to the window.\n",
       "    var buttongrp = $('<div class=\"btn-group inline pull-right\"></div>');\n",
       "    var button = $('<button class=\"btn btn-mini btn-primary\" href=\"#\" title=\"Stop Interaction\"><i class=\"fa fa-power-off icon-remove icon-large\"></i></button>');\n",
       "    button.click(function (evt) { fig.handle_close(fig, {}); } );\n",
       "    button.mouseover('Stop Interaction', toolbar_mouse_event);\n",
       "    buttongrp.append(button);\n",
       "    var titlebar = this.root.find($('.ui-dialog-titlebar'));\n",
       "    titlebar.prepend(buttongrp);\n",
       "}\n",
       "\n",
       "mpl.figure.prototype._root_extra_style = function(el){\n",
       "    var fig = this\n",
       "    el.on(\"remove\", function(){\n",
       "\tfig.close_ws(fig, {});\n",
       "    });\n",
       "}\n",
       "\n",
       "mpl.figure.prototype._canvas_extra_style = function(el){\n",
       "    // this is important to make the div 'focusable\n",
       "    el.attr('tabindex', 0)\n",
       "    // reach out to IPython and tell the keyboard manager to turn it's self\n",
       "    // off when our div gets focus\n",
       "\n",
       "    // location in version 3\n",
       "    if (IPython.notebook.keyboard_manager) {\n",
       "        IPython.notebook.keyboard_manager.register_events(el);\n",
       "    }\n",
       "    else {\n",
       "        // location in version 2\n",
       "        IPython.keyboard_manager.register_events(el);\n",
       "    }\n",
       "\n",
       "}\n",
       "\n",
       "mpl.figure.prototype._key_event_extra = function(event, name) {\n",
       "    var manager = IPython.notebook.keyboard_manager;\n",
       "    if (!manager)\n",
       "        manager = IPython.keyboard_manager;\n",
       "\n",
       "    // Check for shift+enter\n",
       "    if (event.shiftKey && event.which == 13) {\n",
       "        this.canvas_div.blur();\n",
       "        event.shiftKey = false;\n",
       "        // Send a \"J\" for go to next cell\n",
       "        event.which = 74;\n",
       "        event.keyCode = 74;\n",
       "        manager.command_mode();\n",
       "        manager.handle_keydown(event);\n",
       "    }\n",
       "}\n",
       "\n",
       "mpl.figure.prototype.handle_save = function(fig, msg) {\n",
       "    fig.ondownload(fig, null);\n",
       "}\n",
       "\n",
       "\n",
       "mpl.find_output_cell = function(html_output) {\n",
       "    // Return the cell and output element which can be found *uniquely* in the notebook.\n",
       "    // Note - this is a bit hacky, but it is done because the \"notebook_saving.Notebook\"\n",
       "    // IPython event is triggered only after the cells have been serialised, which for\n",
       "    // our purposes (turning an active figure into a static one), is too late.\n",
       "    var cells = IPython.notebook.get_cells();\n",
       "    var ncells = cells.length;\n",
       "    for (var i=0; i<ncells; i++) {\n",
       "        var cell = cells[i];\n",
       "        if (cell.cell_type === 'code'){\n",
       "            for (var j=0; j<cell.output_area.outputs.length; j++) {\n",
       "                var data = cell.output_area.outputs[j];\n",
       "                if (data.data) {\n",
       "                    // IPython >= 3 moved mimebundle to data attribute of output\n",
       "                    data = data.data;\n",
       "                }\n",
       "                if (data['text/html'] == html_output) {\n",
       "                    return [cell, data, j];\n",
       "                }\n",
       "            }\n",
       "        }\n",
       "    }\n",
       "}\n",
       "\n",
       "// Register the function which deals with the matplotlib target/channel.\n",
       "// The kernel may be null if the page has been refreshed.\n",
       "if (IPython.notebook.kernel != null) {\n",
       "    IPython.notebook.kernel.comm_manager.register_target('matplotlib', mpl.mpl_figure_comm);\n",
       "}\n"
      ],
      "text/plain": [
       "<IPython.core.display.Javascript object>"
      ]
     },
     "metadata": {},
     "output_type": "display_data"
    },
    {
     "data": {
      "text/html": [
       "<img src=\"data:image/png;base64,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\">"
      ],
      "text/plain": [
       "<IPython.core.display.HTML object>"
      ]
     },
     "metadata": {},
     "output_type": "display_data"
    }
   ],
   "source": [
    "plot_position(system.results)\n",
    "#savefig('mit_cent-fig01.pdf')"
   ]
  },
  {
   "cell_type": "markdown",
   "metadata": {},
   "source": [
    "Ejercicio: agregue una instrucción de impresión a slope_func para imprimir el valor de t cada vez que se llame. ¿Qué podemos inferir sobre cómo funciona odeint, en función de los resultados?"
   ]
  },
  {
   "cell_type": "code",
   "execution_count": 42,
   "metadata": {},
   "outputs": [
    {
     "name": "stdout",
     "output_type": "stream",
     "text": [
      "8.817885349720552 second\n"
     ]
    }
   ],
   "source": [
    "\n",
    "def slope_func(state, t, system):\n",
    "    \"\"\"Calcular derivados del estado.\n",
    "    \n",
    "     estado: posición, velocidad\n",
    "     t: tiempo\n",
    "     sistema: objeto del sistema que contiene `g`\n",
    "    \n",
    "     devoluciones: derivadas de y & v\n",
    "    \"\"\"\n",
    "    y, v = state\n",
    "    unpack(system)    \n",
    "\n",
    "    dydt = v\n",
    "    dvdt = -g\n",
    "    \n",
    "    return dydt, dvdt\n",
    "print (t)"
   ]
  },
  {
   "cell_type": "markdown",
   "metadata": {},
   "source": [
    "En el pavimento:\n",
    "Aquí está el código nuevamente para configurar el objeto del Sistema."
   ]
  },
  {
   "cell_type": "code",
   "execution_count": 43,
   "metadata": {
    "collapsed": true
   },
   "outputs": [],
   "source": [
    "def make_system(duration, v_init=0):\n",
    "    \"\"\"Haz un objeto de sistema.\n",
    "    \n",
    "     duración: tiempo de simulación en segundos\n",
    "     v_init: velocidad inicial, sin dimensiones\n",
    "    \n",
    "     devoluciones: objeto del sistema\n",
    "    \"\"\"\n",
    "    init = State(y=381 * m, v=v_init * m / s)\n",
    "\n",
    "    g = 9.8 * m/s**2\n",
    "    #ts = linspace(0, duration, 11)\n",
    "    ts = linspace(0, 10, 11)\n",
    "    return System(init=init, g=g, ts=ts)"
   ]
  },
  {
   "cell_type": "markdown",
   "metadata": {},
   "source": [
    "Corremos la simulación"
   ]
  },
  {
   "cell_type": "code",
   "execution_count": 44,
   "metadata": {},
   "outputs": [
    {
     "data": {
      "text/html": [
       "<div>\n",
       "<table border=\"1\" class=\"dataframe\">\n",
       "  <thead>\n",
       "    <tr style=\"text-align: right;\">\n",
       "      <th></th>\n",
       "      <th>y</th>\n",
       "      <th>v</th>\n",
       "    </tr>\n",
       "  </thead>\n",
       "  <tbody>\n",
       "    <tr>\n",
       "      <th>0.0</th>\n",
       "      <td>381.0</td>\n",
       "      <td>0.0</td>\n",
       "    </tr>\n",
       "    <tr>\n",
       "      <th>1.0</th>\n",
       "      <td>376.1</td>\n",
       "      <td>-9.8</td>\n",
       "    </tr>\n",
       "    <tr>\n",
       "      <th>2.0</th>\n",
       "      <td>361.4</td>\n",
       "      <td>-19.6</td>\n",
       "    </tr>\n",
       "    <tr>\n",
       "      <th>3.0</th>\n",
       "      <td>336.9</td>\n",
       "      <td>-29.4</td>\n",
       "    </tr>\n",
       "    <tr>\n",
       "      <th>4.0</th>\n",
       "      <td>302.6</td>\n",
       "      <td>-39.2</td>\n",
       "    </tr>\n",
       "    <tr>\n",
       "      <th>5.0</th>\n",
       "      <td>258.5</td>\n",
       "      <td>-49.0</td>\n",
       "    </tr>\n",
       "    <tr>\n",
       "      <th>6.0</th>\n",
       "      <td>204.6</td>\n",
       "      <td>-58.8</td>\n",
       "    </tr>\n",
       "    <tr>\n",
       "      <th>7.0</th>\n",
       "      <td>140.9</td>\n",
       "      <td>-68.6</td>\n",
       "    </tr>\n",
       "    <tr>\n",
       "      <th>8.0</th>\n",
       "      <td>67.4</td>\n",
       "      <td>-78.4</td>\n",
       "    </tr>\n",
       "    <tr>\n",
       "      <th>9.0</th>\n",
       "      <td>-15.9</td>\n",
       "      <td>-88.2</td>\n",
       "    </tr>\n",
       "    <tr>\n",
       "      <th>10.0</th>\n",
       "      <td>-109.0</td>\n",
       "      <td>-98.0</td>\n",
       "    </tr>\n",
       "    <tr>\n",
       "      <th>11.0</th>\n",
       "      <td>-211.9</td>\n",
       "      <td>-107.8</td>\n",
       "    </tr>\n",
       "    <tr>\n",
       "      <th>12.0</th>\n",
       "      <td>-324.6</td>\n",
       "      <td>-117.6</td>\n",
       "    </tr>\n",
       "    <tr>\n",
       "      <th>13.0</th>\n",
       "      <td>-447.1</td>\n",
       "      <td>-127.4</td>\n",
       "    </tr>\n",
       "    <tr>\n",
       "      <th>14.0</th>\n",
       "      <td>-579.4</td>\n",
       "      <td>-137.2</td>\n",
       "    </tr>\n",
       "    <tr>\n",
       "      <th>15.0</th>\n",
       "      <td>-721.5</td>\n",
       "      <td>-147.0</td>\n",
       "    </tr>\n",
       "    <tr>\n",
       "      <th>16.0</th>\n",
       "      <td>-873.4</td>\n",
       "      <td>-156.8</td>\n",
       "    </tr>\n",
       "    <tr>\n",
       "      <th>17.0</th>\n",
       "      <td>-1035.1</td>\n",
       "      <td>-166.6</td>\n",
       "    </tr>\n",
       "    <tr>\n",
       "      <th>18.0</th>\n",
       "      <td>-1206.6</td>\n",
       "      <td>-176.4</td>\n",
       "    </tr>\n",
       "    <tr>\n",
       "      <th>19.0</th>\n",
       "      <td>-1387.9</td>\n",
       "      <td>-186.2</td>\n",
       "    </tr>\n",
       "    <tr>\n",
       "      <th>20.0</th>\n",
       "      <td>-1579.0</td>\n",
       "      <td>-196.0</td>\n",
       "    </tr>\n",
       "  </tbody>\n",
       "</table>\n",
       "</div>"
      ],
      "text/plain": [
       "           y      v\n",
       "0.0    381.0    0.0\n",
       "1.0    376.1   -9.8\n",
       "2.0    361.4  -19.6\n",
       "3.0    336.9  -29.4\n",
       "4.0    302.6  -39.2\n",
       "5.0    258.5  -49.0\n",
       "6.0    204.6  -58.8\n",
       "7.0    140.9  -68.6\n",
       "8.0     67.4  -78.4\n",
       "9.0    -15.9  -88.2\n",
       "10.0  -109.0  -98.0\n",
       "11.0  -211.9 -107.8\n",
       "12.0  -324.6 -117.6\n",
       "13.0  -447.1 -127.4\n",
       "14.0  -579.4 -137.2\n",
       "15.0  -721.5 -147.0\n",
       "16.0  -873.4 -156.8\n",
       "17.0 -1035.1 -166.6\n",
       "18.0 -1206.6 -176.4\n",
       "19.0 -1387.9 -186.2\n",
       "20.0 -1579.0 -196.0"
      ]
     },
     "execution_count": 44,
     "metadata": {},
     "output_type": "execute_result"
    }
   ],
   "source": [
    "\n",
    "system = make_system(10)\n",
    "run_odeint(system, slope_func)\n",
    "system.results"
   ]
  },
  {
   "cell_type": "markdown",
   "metadata": {},
   "source": [
    "Para saber cuándo el centavo golpea la acera, usamos interp_inverse, que devuelve una función que se asigna de altura en altura"
   ]
  },
  {
   "cell_type": "code",
   "execution_count": 45,
   "metadata": {},
   "outputs": [
    {
     "ename": "AttributeError",
     "evalue": "'Float64Index' object has no attribute 'isnull'",
     "output_type": "error",
     "traceback": [
      "\u001b[1;31m---------------------------------------------------------------------------\u001b[0m",
      "\u001b[1;31mAttributeError\u001b[0m                            Traceback (most recent call last)",
      "\u001b[1;32m<ipython-input-45-84d6919381b2>\u001b[0m in \u001b[0;36m<module>\u001b[1;34m()\u001b[0m\n\u001b[0;32m      1\u001b[0m \u001b[0my\u001b[0m \u001b[1;33m=\u001b[0m \u001b[0msystem\u001b[0m\u001b[1;33m.\u001b[0m\u001b[0mresults\u001b[0m\u001b[1;33m.\u001b[0m\u001b[0my\u001b[0m\u001b[1;33m\u001b[0m\u001b[0m\n\u001b[1;32m----> 2\u001b[1;33m \u001b[0mT\u001b[0m \u001b[1;33m=\u001b[0m \u001b[0minterp_inverse\u001b[0m\u001b[1;33m(\u001b[0m\u001b[0my\u001b[0m\u001b[1;33m,\u001b[0m \u001b[0mkind\u001b[0m\u001b[1;33m=\u001b[0m\u001b[1;34m'cubic'\u001b[0m\u001b[1;33m)\u001b[0m\u001b[1;33m\u001b[0m\u001b[0m\n\u001b[0m",
      "\u001b[1;32m~\\modsim.py\u001b[0m in \u001b[0;36minterp_inverse\u001b[1;34m(series, **options)\u001b[0m\n\u001b[0;32m    407\u001b[0m     \"\"\"\n\u001b[0;32m    408\u001b[0m     \u001b[0minverse\u001b[0m \u001b[1;33m=\u001b[0m \u001b[0mSeries\u001b[0m\u001b[1;33m(\u001b[0m\u001b[0mseries\u001b[0m\u001b[1;33m.\u001b[0m\u001b[0mindex\u001b[0m\u001b[1;33m,\u001b[0m \u001b[0mindex\u001b[0m\u001b[1;33m=\u001b[0m\u001b[0mseries\u001b[0m\u001b[1;33m.\u001b[0m\u001b[0mvalues\u001b[0m\u001b[1;33m)\u001b[0m\u001b[1;33m\u001b[0m\u001b[0m\n\u001b[1;32m--> 409\u001b[1;33m     \u001b[0mT\u001b[0m \u001b[1;33m=\u001b[0m \u001b[0minterpolate\u001b[0m\u001b[1;33m(\u001b[0m\u001b[0minverse\u001b[0m\u001b[1;33m,\u001b[0m \u001b[1;33m**\u001b[0m\u001b[0moptions\u001b[0m\u001b[1;33m)\u001b[0m\u001b[1;33m\u001b[0m\u001b[0m\n\u001b[0m\u001b[0;32m    410\u001b[0m     \u001b[1;32mreturn\u001b[0m \u001b[0mT\u001b[0m\u001b[1;33m\u001b[0m\u001b[0m\n\u001b[0;32m    411\u001b[0m \u001b[1;33m\u001b[0m\u001b[0m\n",
      "\u001b[1;32m~\\modsim.py\u001b[0m in \u001b[0;36minterpolate\u001b[1;34m(series, **options)\u001b[0m\n\u001b[0;32m    382\u001b[0m     \u001b[1;31m# TODO: add error checking for nonmonotonicity\u001b[0m\u001b[1;33m\u001b[0m\u001b[1;33m\u001b[0m\u001b[0m\n\u001b[0;32m    383\u001b[0m \u001b[1;33m\u001b[0m\u001b[0m\n\u001b[1;32m--> 384\u001b[1;33m     \u001b[1;32mif\u001b[0m \u001b[0msum\u001b[0m\u001b[1;33m(\u001b[0m\u001b[0mseries\u001b[0m\u001b[1;33m.\u001b[0m\u001b[0mindex\u001b[0m\u001b[1;33m.\u001b[0m\u001b[0misnull\u001b[0m\u001b[1;33m(\u001b[0m\u001b[1;33m)\u001b[0m\u001b[1;33m)\u001b[0m\u001b[1;33m:\u001b[0m\u001b[1;33m\u001b[0m\u001b[0m\n\u001b[0m\u001b[0;32m    385\u001b[0m         msg = \"\"\"The Series you passed to interpolate contains\n\u001b[0;32m    386\u001b[0m                  \u001b[0mNaN\u001b[0m \u001b[0mvalues\u001b[0m \u001b[1;32min\u001b[0m \u001b[0mthe\u001b[0m \u001b[0mindex\u001b[0m\u001b[1;33m,\u001b[0m \u001b[0mwhich\u001b[0m \u001b[0mwould\u001b[0m \u001b[0mresult\u001b[0m \u001b[1;32min\u001b[0m\u001b[1;33m\u001b[0m\u001b[0m\n",
      "\u001b[1;31mAttributeError\u001b[0m: 'Float64Index' object has no attribute 'isnull'"
     ]
    }
   ],
   "source": [
    "y = system.results.y\n",
    "T = interp_inverse(y, kind='cubic')"
   ]
  },
  {
   "cell_type": "markdown",
   "metadata": {},
   "source": [
    "T (0) interpola el tiempo cuando la altura era 0."
   ]
  },
  {
   "cell_type": "code",
   "execution_count": 42,
   "metadata": {},
   "outputs": [
    {
     "ename": "NameError",
     "evalue": "name 'T' is not defined",
     "output_type": "error",
     "traceback": [
      "\u001b[1;31m---------------------------------------------------------------------------\u001b[0m",
      "\u001b[1;31mNameError\u001b[0m                                 Traceback (most recent call last)",
      "\u001b[1;32m<ipython-input-42-05d520033368>\u001b[0m in \u001b[0;36m<module>\u001b[1;34m()\u001b[0m\n\u001b[1;32m----> 1\u001b[1;33m \u001b[0mT_sidewalk\u001b[0m \u001b[1;33m=\u001b[0m \u001b[0mT\u001b[0m\u001b[1;33m(\u001b[0m\u001b[1;36m0\u001b[0m\u001b[1;33m)\u001b[0m\u001b[1;33m\u001b[0m\u001b[0m\n\u001b[0m\u001b[0;32m      2\u001b[0m \u001b[0mT_sidewalk\u001b[0m\u001b[1;33m\u001b[0m\u001b[0m\n",
      "\u001b[1;31mNameError\u001b[0m: name 'T' is not defined"
     ]
    }
   ],
   "source": [
    "T_sidewalk = T(0)\n",
    "T_sidewalk"
   ]
  },
  {
   "cell_type": "code",
   "execution_count": 1,
   "metadata": {},
   "outputs": [
    {
     "ename": "NameError",
     "evalue": "name 'linrange' is not defined",
     "output_type": "error",
     "traceback": [
      "\u001b[1;31m---------------------------------------------------------------------------\u001b[0m",
      "\u001b[1;31mNameError\u001b[0m                                 Traceback (most recent call last)",
      "\u001b[1;32m<ipython-input-1-4e14aa6a3299>\u001b[0m in \u001b[0;36m<module>\u001b[1;34m()\u001b[0m\n\u001b[0;32m      2\u001b[0m \u001b[1;33m\u001b[0m\u001b[0m\n\u001b[0;32m      3\u001b[0m \u001b[0mduration\u001b[0m \u001b[1;33m=\u001b[0m \u001b[1;36m10\u001b[0m\u001b[1;33m\u001b[0m\u001b[0m\n\u001b[1;32m----> 4\u001b[1;33m \u001b[0mvs\u001b[0m \u001b[1;33m=\u001b[0m \u001b[0mlinrange\u001b[0m\u001b[1;33m(\u001b[0m\u001b[1;36m0\u001b[0m\u001b[1;33m,\u001b[0m \u001b[1;36m25\u001b[0m\u001b[1;33m,\u001b[0m \u001b[1;36m1\u001b[0m\u001b[1;33m)\u001b[0m\u001b[1;33m\u001b[0m\u001b[0m\n\u001b[0m\u001b[0;32m      5\u001b[0m \u001b[1;33m\u001b[0m\u001b[0m\n\u001b[0;32m      6\u001b[0m \u001b[1;32mfor\u001b[0m \u001b[0mv_init\u001b[0m \u001b[1;32min\u001b[0m \u001b[0mvs\u001b[0m\u001b[1;33m:\u001b[0m\u001b[1;33m\u001b[0m\u001b[0m\n",
      "\u001b[1;31mNameError\u001b[0m: name 'linrange' is not defined"
     ]
    }
   ],
   "source": [
    "# Solution\n",
    "\n",
    "duration = 10\n",
    "vs = linrange(0, 25, 1)\n",
    "\n",
    "for v_init in vs:\n",
    "    system = make_system(20, v_init)\n",
    "    run_odeint(system, slope_func)\n",
    "    y = system.results.y\n",
    "    inverse = Series(y.index, index=y.values)\n",
    "    T = interpolate(inverse, kind='cubic')\n",
    "    T_sidewalk = T(0)\n",
    "    plot(v_init, T_sidewalk, 'b-')"
   ]
  },
  {
   "cell_type": "markdown",
   "metadata": {},
   "source": [
    "# SOLUCIÓN:\n",
    "\n",
    "Con resistencia del aire\n",
    "\n",
    "Ecuación de arrastre o fuerza de rozamiento\n",
    "\n",
    "Primero crearemos un objeto Condition para contener las cantidades que necesitaremos.\n",
    "\n"
   ]
  },
  {
   "cell_type": "code",
   "execution_count": 30,
   "metadata": {
    "collapsed": true
   },
   "outputs": [],
   "source": [
    "condition = Condition(height = 381 * m,\n",
    "                      v_init = 0 * m / s,\n",
    "                      g = 9.8 * m/s**2,\n",
    "                      mass = 2.5e-3 * kg,\n",
    "                      diameter = 19e-3 * m,\n",
    "                      rho = 1.2 * kg/m**3,\n",
    "                      v_term = 18 * m / s,\n",
    "                      duration = 30 * s)"
   ]
  },
  {
   "cell_type": "markdown",
   "metadata": {},
   "source": [
    "Ahora aquí hay una versión de make_system que toma un objeto Condition como parámetro.\n",
    "\n",
    "make_system usa el valor dado de v_term para calcular el coeficiente de arrastre C_d."
   ]
  },
  {
   "cell_type": "code",
   "execution_count": 33,
   "metadata": {
    "collapsed": true
   },
   "outputs": [],
   "source": [
    "def make_system(condition):\n",
    "    \"\"\"Hace un objeto como sistema para las condiciones dadas.\n",
    "    \n",
    "     condición: Condición con altura, g, masa, diámetro,\n",
    "                rho=densidad, v_term y duración\n",
    "    \n",
    "     devuelve: Sistema con init, g, masa, rho, C_d, área y ts\n",
    "    \"\"\"\n",
    "    unpack(condition)\n",
    "    \n",
    "    init = State(y=height, v=v_init)\n",
    "    area = np.pi * (diameter/2)**2\n",
    "    C_d = 2 * mass * g / (rho * area * v_term**2)\n",
    "    #duration = 30 * s\n",
    "    #ts = linspace(0, duration, 101)\n",
    "    ts = linspace(0, 30, 101)\n",
    "    \n",
    "    return System(init=init, g=g, mass=mass, rho=rho,\n",
    "                  C_d=C_d, area=area, ts=ts)"
   ]
  },
  {
   "cell_type": "markdown",
   "metadata": {},
   "source": [
    "Hagamos un Sistema"
   ]
  },
  {
   "cell_type": "code",
   "execution_count": 34,
   "metadata": {},
   "outputs": [
    {
     "data": {
      "text/html": [
       "<div>\n",
       "<table border=\"1\" class=\"dataframe\">\n",
       "  <thead>\n",
       "    <tr style=\"text-align: right;\">\n",
       "      <th></th>\n",
       "      <th>value</th>\n",
       "    </tr>\n",
       "  </thead>\n",
       "  <tbody>\n",
       "    <tr>\n",
       "      <th>ts</th>\n",
       "      <td>[0.0, 0.3, 0.6, 0.9, 1.2, 1.5, 1.8, 2.1, 2.4, ...</td>\n",
       "    </tr>\n",
       "    <tr>\n",
       "      <th>area</th>\n",
       "      <td>0.0002835287369864788 meter ** 2</td>\n",
       "    </tr>\n",
       "    <tr>\n",
       "      <th>rho</th>\n",
       "      <td>1.2 kilogram / meter ** 3</td>\n",
       "    </tr>\n",
       "    <tr>\n",
       "      <th>C_d</th>\n",
       "      <td>0.4445009981135434 dimensionless</td>\n",
       "    </tr>\n",
       "    <tr>\n",
       "      <th>g</th>\n",
       "      <td>9.8 meter / second ** 2</td>\n",
       "    </tr>\n",
       "    <tr>\n",
       "      <th>init</th>\n",
       "      <td>y             381 meter\n",
       "v    0.0 meter / secon...</td>\n",
       "    </tr>\n",
       "    <tr>\n",
       "      <th>mass</th>\n",
       "      <td>0.0025 kilogram</td>\n",
       "    </tr>\n",
       "  </tbody>\n",
       "</table>\n",
       "</div>"
      ],
      "text/plain": [
       "ts      [0.0, 0.3, 0.6, 0.9, 1.2, 1.5, 1.8, 2.1, 2.4, ...\n",
       "area                     0.0002835287369864788 meter ** 2\n",
       "rho                             1.2 kilogram / meter ** 3\n",
       "C_d                      0.4445009981135434 dimensionless\n",
       "g                                 9.8 meter / second ** 2\n",
       "init    y             381 meter\n",
       "v    0.0 meter / secon...\n",
       "mass                                      0.0025 kilogram\n",
       "dtype: object"
      ]
     },
     "execution_count": 34,
     "metadata": {},
     "output_type": "execute_result"
    }
   ],
   "source": [
    "system = make_system(condition)\n",
    "system"
   ]
  },
  {
   "cell_type": "markdown",
   "metadata": {},
   "source": [
    "Aquí está la función de pendiente, incluida la aceleración debido a la gravedad y la resistencia."
   ]
  },
  {
   "cell_type": "code",
   "execution_count": 35,
   "metadata": {
    "collapsed": true
   },
   "outputs": [],
   "source": [
    "def slope_func(state, t, system):\n",
    "    \"\"\"Calcular derivados del estado.\n",
    "    \n",
    "     estado: posición, velocidad\n",
    "     t: tiempo\n",
    "     sistema: objeto del sistema que contiene g, rho,\n",
    "             C_d, área y masa\n",
    "    \n",
    "     devoluciones: derivadas de y & v\n",
    "    \"\"\"\n",
    "    y, v = state\n",
    "    unpack(system)\n",
    "    \n",
    "    f_drag = rho * v**2 * C_d * area / 2\n",
    "    a_drag = f_drag / mass\n",
    "    \n",
    "    dydt = v\n",
    "    dvdt = -g + a_drag\n",
    "    \n",
    "    return dydt, dvdt"
   ]
  },
  {
   "cell_type": "markdown",
   "metadata": {},
   "source": [
    "Se prueba la función de pendiente con las condiciones iniciales"
   ]
  },
  {
   "cell_type": "code",
   "execution_count": 36,
   "metadata": {},
   "outputs": [
    {
     "data": {
      "text/plain": [
       "(<Quantity(0.0, 'meter / second')>, <Quantity(-9.8, 'meter / second ** 2')>)"
      ]
     },
     "execution_count": 36,
     "metadata": {},
     "output_type": "execute_result"
    }
   ],
   "source": [
    "slope_func(system.init, 0, system)"
   ]
  },
  {
   "cell_type": "markdown",
   "metadata": {},
   "source": [
    "Y luego ejecutamos la simulación."
   ]
  },
  {
   "cell_type": "code",
   "execution_count": 37,
   "metadata": {
    "collapsed": true
   },
   "outputs": [],
   "source": [
    "run_odeint(system, slope_func)"
   ]
  },
  {
   "cell_type": "markdown",
   "metadata": {},
   "source": [
    "Primero comprobamos que la simulación haya corrido el tiempo suficiente para que caiga el centavo."
   ]
  },
  {
   "cell_type": "code",
   "execution_count": 40,
   "metadata": {},
   "outputs": [
    {
     "data": {
      "text/plain": [
       "(<Quantity(-136.083704279796, 'meter')>,\n",
       " <Quantity(-18.00000000087864, 'meter / second')>)"
      ]
     },
     "execution_count": 40,
     "metadata": {},
     "output_type": "execute_result"
    }
   ],
   "source": [
    "def final_state(results):\n",
    "    \"\"\"Devuelve la posición y velocidad final, con unidades.\n",
    "    \n",
    "     resultados: TimeFrame con y & v.\n",
    "    \n",
    "     devuelve: y, v en t_end\n",
    "    \"\"\"\n",
    "    t_end = results.index[-1]\n",
    "    y, v = results.loc[t_end]\n",
    "    return y*m, v*m/s\n",
    "    \n",
    "final_state(system.results)"
   ]
  },
  {
   "cell_type": "markdown",
   "metadata": {},
   "source": [
    "Luego se calcula el tiempo de vuelo."
   ]
  },
  {
   "cell_type": "code",
   "execution_count": 42,
   "metadata": {},
   "outputs": [
    {
     "ename": "AttributeError",
     "evalue": "'Float64Index' object has no attribute 'isnull'",
     "output_type": "error",
     "traceback": [
      "\u001b[1;31m---------------------------------------------------------------------------\u001b[0m",
      "\u001b[1;31mAttributeError\u001b[0m                            Traceback (most recent call last)",
      "\u001b[1;32m<ipython-input-42-4d9105ddd2db>\u001b[0m in \u001b[0;36m<module>\u001b[1;34m()\u001b[0m\n\u001b[0;32m      1\u001b[0m \u001b[0my\u001b[0m \u001b[1;33m=\u001b[0m \u001b[0msystem\u001b[0m\u001b[1;33m.\u001b[0m\u001b[0mresults\u001b[0m\u001b[1;33m.\u001b[0m\u001b[0my\u001b[0m\u001b[1;33m\u001b[0m\u001b[0m\n\u001b[0;32m      2\u001b[0m \u001b[0minverse\u001b[0m \u001b[1;33m=\u001b[0m \u001b[0mSeries\u001b[0m\u001b[1;33m(\u001b[0m\u001b[0my\u001b[0m\u001b[1;33m.\u001b[0m\u001b[0mindex\u001b[0m\u001b[1;33m,\u001b[0m \u001b[0mindex\u001b[0m\u001b[1;33m=\u001b[0m\u001b[0my\u001b[0m\u001b[1;33m.\u001b[0m\u001b[0mvalues\u001b[0m\u001b[1;33m)\u001b[0m\u001b[1;33m\u001b[0m\u001b[0m\n\u001b[1;32m----> 3\u001b[1;33m \u001b[0mT\u001b[0m \u001b[1;33m=\u001b[0m \u001b[0minterpolate\u001b[0m\u001b[1;33m(\u001b[0m\u001b[0minverse\u001b[0m\u001b[1;33m,\u001b[0m \u001b[0mkind\u001b[0m\u001b[1;33m=\u001b[0m\u001b[1;34m'cubic'\u001b[0m\u001b[1;33m)\u001b[0m\u001b[1;33m\u001b[0m\u001b[0m\n\u001b[0m\u001b[0;32m      4\u001b[0m \u001b[0mT_sidewalk\u001b[0m \u001b[1;33m=\u001b[0m \u001b[0mT\u001b[0m\u001b[1;33m(\u001b[0m\u001b[1;36m0\u001b[0m\u001b[1;33m)\u001b[0m\u001b[1;33m\u001b[0m\u001b[0m\n\u001b[0;32m      5\u001b[0m \u001b[0mT_sidewalk\u001b[0m\u001b[1;33m\u001b[0m\u001b[0m\n",
      "\u001b[1;32m~\\modsim.py\u001b[0m in \u001b[0;36minterpolate\u001b[1;34m(series, **options)\u001b[0m\n\u001b[0;32m    382\u001b[0m     \u001b[1;31m# TODO: add error checking for nonmonotonicity\u001b[0m\u001b[1;33m\u001b[0m\u001b[1;33m\u001b[0m\u001b[0m\n\u001b[0;32m    383\u001b[0m \u001b[1;33m\u001b[0m\u001b[0m\n\u001b[1;32m--> 384\u001b[1;33m     \u001b[1;32mif\u001b[0m \u001b[0msum\u001b[0m\u001b[1;33m(\u001b[0m\u001b[0mseries\u001b[0m\u001b[1;33m.\u001b[0m\u001b[0mindex\u001b[0m\u001b[1;33m.\u001b[0m\u001b[0misnull\u001b[0m\u001b[1;33m(\u001b[0m\u001b[1;33m)\u001b[0m\u001b[1;33m)\u001b[0m\u001b[1;33m:\u001b[0m\u001b[1;33m\u001b[0m\u001b[0m\n\u001b[0m\u001b[0;32m    385\u001b[0m         msg = \"\"\"The Series you passed to interpolate contains\n\u001b[0;32m    386\u001b[0m                  \u001b[0mNaN\u001b[0m \u001b[0mvalues\u001b[0m \u001b[1;32min\u001b[0m \u001b[0mthe\u001b[0m \u001b[0mindex\u001b[0m\u001b[1;33m,\u001b[0m \u001b[0mwhich\u001b[0m \u001b[0mwould\u001b[0m \u001b[0mresult\u001b[0m \u001b[1;32min\u001b[0m\u001b[1;33m\u001b[0m\u001b[0m\n",
      "\u001b[1;31mAttributeError\u001b[0m: 'Float64Index' object has no attribute 'isnull'"
     ]
    }
   ],
   "source": [
    "y = system.results.y\n",
    "inverse = Series(y.index, index=y.values)\n",
    "T = interpolate(inverse, kind='cubic')\n",
    "T_sidewalk = T(0)\n",
    "T_sidewalk"
   ]
  },
  {
   "cell_type": "markdown",
   "metadata": {},
   "source": [
    "Configurando la duración al tiempo de vuelo calculado, podemos verificar las condiciones finales."
   ]
  },
  {
   "cell_type": "code",
   "execution_count": 43,
   "metadata": {},
   "outputs": [
    {
     "ename": "NameError",
     "evalue": "name 'T_sidewalk' is not defined",
     "output_type": "error",
     "traceback": [
      "\u001b[1;31m---------------------------------------------------------------------------\u001b[0m",
      "\u001b[1;31mNameError\u001b[0m                                 Traceback (most recent call last)",
      "\u001b[1;32m<ipython-input-43-929ece6a2739>\u001b[0m in \u001b[0;36m<module>\u001b[1;34m()\u001b[0m\n\u001b[1;32m----> 1\u001b[1;33m \u001b[0mcondition\u001b[0m\u001b[1;33m.\u001b[0m\u001b[0mset\u001b[0m\u001b[1;33m(\u001b[0m\u001b[0mduration\u001b[0m\u001b[1;33m=\u001b[0m\u001b[0mT_sidewalk\u001b[0m\u001b[1;33m)\u001b[0m\u001b[1;33m\u001b[0m\u001b[0m\n\u001b[0m\u001b[0;32m      2\u001b[0m \u001b[0msystem\u001b[0m \u001b[1;33m=\u001b[0m \u001b[0mmake_system\u001b[0m\u001b[1;33m(\u001b[0m\u001b[0mcondition\u001b[0m\u001b[1;33m)\u001b[0m\u001b[1;33m\u001b[0m\u001b[0m\n\u001b[0;32m      3\u001b[0m \u001b[0mrun_odeint\u001b[0m\u001b[1;33m(\u001b[0m\u001b[0msystem\u001b[0m\u001b[1;33m,\u001b[0m \u001b[0mslope_func\u001b[0m\u001b[1;33m)\u001b[0m\u001b[1;33m\u001b[0m\u001b[0m\n\u001b[0;32m      4\u001b[0m \u001b[0my_final\u001b[0m\u001b[1;33m,\u001b[0m \u001b[0mv_final\u001b[0m \u001b[1;33m=\u001b[0m \u001b[0mfinal_state\u001b[0m\u001b[1;33m(\u001b[0m\u001b[0msystem\u001b[0m\u001b[1;33m.\u001b[0m\u001b[0mresults\u001b[0m\u001b[1;33m)\u001b[0m\u001b[1;33m\u001b[0m\u001b[0m\n",
      "\u001b[1;31mNameError\u001b[0m: name 'T_sidewalk' is not defined"
     ]
    }
   ],
   "source": [
    "condition.set(duration=T_sidewalk)\n",
    "system = make_system(condition)\n",
    "run_odeint(system, slope_func)\n",
    "y_final, v_final = final_state(system.results)"
   ]
  },
  {
   "cell_type": "markdown",
   "metadata": {},
   "source": [
    "La altura final es cercana a 0, como se esperaba. Y la velocidad final es cercana a la velocidad terminal dada."
   ]
  },
  {
   "cell_type": "code",
   "execution_count": 44,
   "metadata": {},
   "outputs": [
    {
     "ename": "NameError",
     "evalue": "name 'y_final' is not defined",
     "output_type": "error",
     "traceback": [
      "\u001b[1;31m---------------------------------------------------------------------------\u001b[0m",
      "\u001b[1;31mNameError\u001b[0m                                 Traceback (most recent call last)",
      "\u001b[1;32m<ipython-input-44-359ab02589ba>\u001b[0m in \u001b[0;36m<module>\u001b[1;34m()\u001b[0m\n\u001b[1;32m----> 1\u001b[1;33m \u001b[0my_final\u001b[0m\u001b[1;33m,\u001b[0m \u001b[0mv_final\u001b[0m\u001b[1;33m\u001b[0m\u001b[0m\n\u001b[0m",
      "\u001b[1;31mNameError\u001b[0m: name 'y_final' is not defined"
     ]
    }
   ],
   "source": [
    "y_final, v_final"
   ]
  },
  {
   "cell_type": "markdown",
   "metadata": {},
   "source": [
    "Aquí está la trama de posición como una función del tiempo"
   ]
  },
  {
   "cell_type": "code",
   "execution_count": 45,
   "metadata": {},
   "outputs": [
    {
     "ename": "NameError",
     "evalue": "name 'plot_position' is not defined",
     "output_type": "error",
     "traceback": [
      "\u001b[1;31m---------------------------------------------------------------------------\u001b[0m",
      "\u001b[1;31mNameError\u001b[0m                                 Traceback (most recent call last)",
      "\u001b[1;32m<ipython-input-45-f4503fd7ddd8>\u001b[0m in \u001b[0;36m<module>\u001b[1;34m()\u001b[0m\n\u001b[1;32m----> 1\u001b[1;33m \u001b[0mplot_position\u001b[0m\u001b[1;33m(\u001b[0m\u001b[0msystem\u001b[0m\u001b[1;33m.\u001b[0m\u001b[0mresults\u001b[0m\u001b[1;33m)\u001b[0m\u001b[1;33m\u001b[0m\u001b[0m\n\u001b[0m\u001b[0;32m      2\u001b[0m \u001b[0msavefig\u001b[0m\u001b[1;33m(\u001b[0m\u001b[1;34m'trama_pos_fun_tiempo-fig02.pdf'\u001b[0m\u001b[1;33m)\u001b[0m\u001b[1;33m\u001b[0m\u001b[0m\n",
      "\u001b[1;31mNameError\u001b[0m: name 'plot_position' is not defined"
     ]
    }
   ],
   "source": [
    "plot_position(system.results)\n",
    "savefig('trama_pos_fun_tiempo-fig02.pdf')"
   ]
  },
  {
   "cell_type": "markdown",
   "metadata": {},
   "source": [
    "Y la velocidad como una función del tiempo:"
   ]
  },
  {
   "cell_type": "code",
   "execution_count": null,
   "metadata": {
    "collapsed": true
   },
   "outputs": [],
   "source": [
    "def plot_velocity(results):\n",
    "    \"\"\"Plot the results.\n",
    "    \n",
    "    results: DataFrame with velocity, v\n",
    "    \"\"\"\n",
    "    newfig()\n",
    "    plot(results.v, label='v')\n",
    "        \n",
    "    decorate(xlabel='Time (s)',\n",
    "             ylabel='Velocity (m/2)')"
   ]
  },
  {
   "cell_type": "code",
   "execution_count": 46,
   "metadata": {},
   "outputs": [
    {
     "ename": "NameError",
     "evalue": "name 'plot_velocity' is not defined",
     "output_type": "error",
     "traceback": [
      "\u001b[1;31m---------------------------------------------------------------------------\u001b[0m",
      "\u001b[1;31mNameError\u001b[0m                                 Traceback (most recent call last)",
      "\u001b[1;32m<ipython-input-46-f1c352793cbe>\u001b[0m in \u001b[0;36m<module>\u001b[1;34m()\u001b[0m\n\u001b[1;32m----> 1\u001b[1;33m \u001b[0mplot_velocity\u001b[0m\u001b[1;33m(\u001b[0m\u001b[0msystem\u001b[0m\u001b[1;33m.\u001b[0m\u001b[0mresults\u001b[0m\u001b[1;33m)\u001b[0m\u001b[1;33m\u001b[0m\u001b[0m\n\u001b[0m",
      "\u001b[1;31mNameError\u001b[0m: name 'plot_velocity' is not defined"
     ]
    }
   ],
   "source": [
    "plot_velocity(system.results)"
   ]
  },
  {
   "cell_type": "markdown",
   "metadata": {},
   "source": [
    "A partir de una velocidad inicial de 0, el centavo se acelera hacia abajo hasta que alcanza la velocidad terminal; después de eso, la velocidad es constante."
   ]
  },
  {
   "cell_type": "markdown",
   "metadata": {},
   "source": [
    "#Hasta aqui"
   ]
  },
  {
   "cell_type": "code",
   "execution_count": 57,
   "metadata": {},
   "outputs": [
    {
     "data": {
      "text/html": [
       "-136.083704279796 meter"
      ],
      "text/latex": [
       "$-136.083704279796\\ \\mathrm{meter}$"
      ],
      "text/plain": [
       "<Quantity(-136.083704279796, 'meter')>"
      ]
     },
     "execution_count": 57,
     "metadata": {},
     "output_type": "execute_result"
    }
   ],
   "source": [
    "y_final, v_final = final_state(system.results)\n",
    "y_final"
   ]
  },
  {
   "cell_type": "markdown",
   "metadata": {},
   "source": [
    "Y podemos verificar la velocidad final."
   ]
  },
  {
   "cell_type": "code",
   "execution_count": 58,
   "metadata": {},
   "outputs": [
    {
     "data": {
      "text/html": [
       "-18.00000000087864 meter/second"
      ],
      "text/latex": [
       "$-18.00000000087864\\ \\frac{\\mathrm{meter}}{\\mathrm{second}}$"
      ],
      "text/plain": [
       "<Quantity(-18.00000000087864, 'meter / second')>"
      ]
     },
     "execution_count": 58,
     "metadata": {},
     "output_type": "execute_result"
    }
   ],
   "source": [
    "v_final"
   ]
  },
  {
   "cell_type": "markdown",
   "metadata": {},
   "source": [
    "Y convertir a km / h"
   ]
  },
  {
   "cell_type": "code",
   "execution_count": 59,
   "metadata": {},
   "outputs": [
    {
     "data": {
      "text/html": [
       "-64.8000000031631 kilometer/hour"
      ],
      "text/latex": [
       "$-64.8000000031631\\ \\frac{\\mathrm{kilometer}}{\\mathrm{hour}}$"
      ],
      "text/plain": [
       "<Quantity(-64.8000000031631, 'kilometer / hour')>"
      ]
     },
     "execution_count": 59,
     "metadata": {},
     "output_type": "execute_result"
    }
   ],
   "source": [
    "km = UNITS.kilometer\n",
    "h = UNITS.hour\n",
    "v_final.to(km / h)"
   ]
  },
  {
   "cell_type": "markdown",
   "metadata": {},
   "source": [
    "Si no hubiera resistencia al aire, el centavo golpearía la acera (o la cabeza de alguien) a más de 300 km / h.\n",
    "\n",
    "Entonces, es bueno que haya resistencia al aire."
   ]
  },
  {
   "cell_type": "code",
   "execution_count": null,
   "metadata": {
    "collapsed": true
   },
   "outputs": [],
   "source": []
  }
 ],
 "metadata": {
  "kernelspec": {
   "display_name": "Python 3",
   "language": "python",
   "name": "python3"
  },
  "language_info": {
   "codemirror_mode": {
    "name": "ipython",
    "version": 3
   },
   "file_extension": ".py",
   "mimetype": "text/x-python",
   "name": "python",
   "nbconvert_exporter": "python",
   "pygments_lexer": "ipython3",
   "version": "3.5.4"
  }
 },
 "nbformat": 4,
 "nbformat_minor": 1
}
